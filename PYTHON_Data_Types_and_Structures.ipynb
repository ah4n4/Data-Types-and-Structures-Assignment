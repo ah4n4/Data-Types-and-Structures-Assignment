{
  "nbformat": 4,
  "nbformat_minor": 0,
  "metadata": {
    "colab": {
      "provenance": []
    },
    "kernelspec": {
      "name": "python3",
      "display_name": "Python 3"
    },
    "language_info": {
      "name": "python"
    }
  },
  "cells": [
    {
      "cell_type": "markdown",
      "source": [
        "# Data Types and Structures\n"
      ],
      "metadata": {
        "id": "7R2Nea2-iZuC"
      }
    },
    {
      "cell_type": "markdown",
      "source": [
        "## **THEORY**"
      ],
      "metadata": {
        "id": "3WTn5X0diqdG"
      }
    },
    {
      "cell_type": "markdown",
      "source": [],
      "metadata": {
        "id": "HZUTyl9mi5Ks"
      }
    },
    {
      "cell_type": "markdown",
      "source": [
        "# 1. What are data structures, and why are they important?\n",
        "  - Data structures are ways of organizing and storing data in a computer so it can be accessed and used efficiently. They are important because they help manage data, optimize performance, and support effective problem-solving in programming.\n"
      ],
      "metadata": {
        "id": "ivv5xJgxi-Py"
      }
    },
    {
      "cell_type": "markdown",
      "source": [
        "# 2. Explain the difference between mutable and immutable data types with examples.\n",
        "  - **Mutable data types** can be changed after creation, while **immutable data types** cannot be changed once created.\n",
        "\n",
        "**Examples:**\n",
        "\n",
        "* **Mutable:**\n",
        "\n",
        "  * `list`:\n",
        "\n",
        "    ```python\n",
        "    a = [1, 2, 3]  \n",
        "    a[0] = 10  # List is changed\n",
        "    ```\n",
        "\n",
        "* **Immutable:**\n",
        "\n",
        "  * `tuple`:\n",
        "\n",
        "    ```python\n",
        "    b = (1, 2, 3)  \n",
        "    b[0] = 10  # Error, tuple cannot be changed\n",
        "    ```\n",
        "\n",
        "So, mutables like lists can be modified, immutables like tuples cannot.\n"
      ],
      "metadata": {
        "id": "i5GCq4jwjxzN"
      }
    },
    {
      "cell_type": "markdown",
      "source": [
        "# 3.What are the main differences between lists and tuples in Python?\n",
        "  - **Main differences between lists and tuples in Python:**\n",
        "\n",
        "1. **Mutability**:\n",
        "\n",
        "   * **List**: Mutable (can be changed)\n",
        "   * **Tuple**: Immutable (cannot be changed)\n",
        "\n",
        "2. **Syntax**:\n",
        "\n",
        "   * **List**: Created using `[]`, e.g., `[1, 2, 3]`\n",
        "   * **Tuple**: Created using `()`, e.g., `(1, 2, 3)`\n",
        "\n",
        "3. **Performance**:\n",
        "\n",
        "   * **Tuple**: Faster than lists due to immutability\n",
        "   * **List**: Slightly slower\n",
        "\n",
        "4. **Use case**:\n",
        "\n",
        "   * **List**: Used for data that might change\n",
        "   * **Tuple**: Used for fixed data\n",
        "\n",
        "5. **Methods**:\n",
        "\n",
        "   * **List**: Has more built-in methods (like `append()`, `remove()`)\n",
        "   * **Tuple**: Has fewer methods\n",
        "\n",
        "Would you like a table format for easier comparison?\n"
      ],
      "metadata": {
        "id": "dMrKqwackKeh"
      }
    },
    {
      "cell_type": "markdown",
      "source": [
        "# 4.Describe how dictionaries store data.\n",
        "   - Dictionaries store data by converting each **key** into a unique **hash code**, which determines where its **value** is placed in a hidden table. This smart mapping lets Python retrieve, add, or change data instantly.\n"
      ],
      "metadata": {
        "id": "OKEL8K9ukixp"
      }
    },
    {
      "cell_type": "markdown",
      "source": [
        "# 5.Why might you use a set instead of a list in Python?\n",
        "  - You might use a **set** instead of a **list** in Python when you need to store **unique items** and perform fast **membership tests**, as sets automatically remove duplicates and offer faster lookups than lists.\n"
      ],
      "metadata": {
        "id": "8roOciazlmYt"
      }
    },
    {
      "cell_type": "markdown",
      "source": [
        "# 6.What is a string in Python, and how is it different from a list?\n",
        "  - A **string** in Python is a sequence of **characters** enclosed in quotes (single, double, or triple). It is **immutable**, meaning once created, its contents cannot be changed.\n",
        "\n",
        "A **list**, on the other hand, is a collection of **items** (which can be of any data type), and it is **mutable**, meaning its elements can be modified, added, or removed after creation.\n"
      ],
      "metadata": {
        "id": "lbX39Hl0l_RP"
      }
    },
    {
      "cell_type": "markdown",
      "source": [
        "# 7.How do tuples ensure data integrity in Python?\n",
        "  - Tuples ensure data integrity in Python by being **immutable**. Once created, the elements of a tuple cannot be modified, added, or removed. This immutability prevents accidental changes, ensuring the data remains constant throughout the program.\n"
      ],
      "metadata": {
        "id": "9CJXc0M1mOz1"
      }
    },
    {
      "cell_type": "markdown",
      "source": [
        "# 8.What is a hash table, and how does it relate to dictionaries in Python?\n",
        "  - A **hash table** is a data structure that stores data in key-value pairs, where each key is hashed into an index, allowing for fast access to the corresponding value. In Python, **dictionaries** use hash tables to quickly map keys to values, making lookups, insertions, and deletions efficient.\n"
      ],
      "metadata": {
        "id": "su4TGCKdmhar"
      }
    },
    {
      "cell_type": "markdown",
      "source": [
        "# 9.Can lists contain different data types in Python?\n",
        "  - Yes, **lists** in Python can contain elements of **different data types**. You can mix integers, strings, floats, and even other lists or objects within a single list. For example:\n",
        "\n",
        "```python\n",
        "my_list = [42, \"hello\", 3.14, [1, 2, 3]]\n",
        "```\n"
      ],
      "metadata": {
        "id": "jXZG0dvUmuO0"
      }
    },
    {
      "cell_type": "markdown",
      "source": [
        "# 10. Explain why strings are immutable in Python.\n",
        "  - Strings are **immutable** in Python to ensure **data integrity** and **efficiency**. When a string is created, it cannot be changed. This immutability allows for faster performance, as Python can reuse existing string objects instead of creating new ones each time a string is modified. It also ensures that strings remain consistent throughout the program, avoiding accidental changes.\n"
      ],
      "metadata": {
        "id": "TA4ORyIsm72d"
      }
    },
    {
      "cell_type": "markdown",
      "source": [
        "# 11.What advantages do dictionaries offer over lists for certain tasks?\n",
        "  - Dictionaries offer several advantages over lists for certain tasks:\n",
        "\n",
        "1. **Faster lookups**: Dictionaries allow for **constant-time** (O(1)) lookups, while lists require **linear-time** (O(n)) search for an item.\n",
        "2. **Key-value association**: Dictionaries store data as **key-value pairs**, making them ideal for tasks that require quick access to data based on unique identifiers (e.g., a name or ID).\n",
        "3. **Unique keys**: Dictionaries automatically enforce **unique keys**, ensuring no duplicate entries, unlike lists where duplicates can easily occur.\n",
        "4. **Direct access**: With a dictionary, you can access elements directly by key, while with lists, you need to access elements by index.\n",
        "\n",
        "These features make dictionaries better suited for tasks like fast lookups, mapping relationships, and working with data that needs to be accessed via unique identifiers.\n"
      ],
      "metadata": {
        "id": "ZyRSNPkKnJyQ"
      }
    },
    {
      "cell_type": "markdown",
      "source": [
        "# 12.Describe a scenario where using a tuple would be preferable over a list.\n",
        "  - A tuple would be preferable over a list when you need to store **fixed, unchangeable data**. For example, when representing the **coordinates of a point** (x, y) in a 2D space, a tuple ensures the values can’t be accidentally altered, providing data integrity and improving performance.\n"
      ],
      "metadata": {
        "id": "6-25340wne4A"
      }
    },
    {
      "cell_type": "markdown",
      "source": [
        "# 13.How do sets handle duplicate values in Python?\n",
        "  - Sets automatically **remove duplicate values** in Python. When you add an element to a set, it checks if the element already exists; if it does, the set ignores it. This ensures that all elements in a set are **unique**.\n"
      ],
      "metadata": {
        "id": "s4NvrGmRnzzO"
      }
    },
    {
      "cell_type": "markdown",
      "source": [
        "# 14.How does the “in” keyword work differently for lists and dictionaries?\n",
        "  - In Python:\n",
        "\n",
        "* **For lists**, the **\"in\"** keyword checks if a value exists anywhere in the list by searching through all the elements. This results in a linear search (O(n) time complexity).\n",
        "\n",
        "* **For dictionaries**, the **\"in\"** keyword checks if a **key** exists in the dictionary, not the value. Since dictionaries are implemented using hash tables, this check is done in constant time (O(1) time complexity).\n",
        "\n",
        "So, the key difference is that for lists it checks values, while for dictionaries it checks keys.\n"
      ],
      "metadata": {
        "id": "IEHh1wXyoAmt"
      }
    },
    {
      "cell_type": "markdown",
      "source": [
        "# 15.Can you modify the elements of a tuple? Explain why or why not.\n",
        "   - No, you cannot modify the elements of a tuple in Python. This is because **tuples are immutable**, meaning once a tuple is created, its contents cannot be changed, added to, or removed. This immutability ensures data integrity and allows Python to optimize memory usage and performance when working with tuples.\n"
      ],
      "metadata": {
        "id": "L1P-TzraoYz0"
      }
    },
    {
      "cell_type": "markdown",
      "source": [
        "# 16.What is a nested dictionary, and give an example of its use case?\n",
        "  - A **nested dictionary** is a dictionary where one or more of its values are themselves dictionaries. This allows you to represent more complex data structures in a hierarchical way.\n",
        "\n",
        "**Example use case**: A nested dictionary can be used to store information about students and their grades in different subjects.\n",
        "\n",
        "```python\n",
        "students = {\n",
        "    \"Alice\": {\"Math\": 85, \"English\": 92},\n",
        "    \"Bob\": {\"Math\": 78, \"English\": 88},\n",
        "    \"Charlie\": {\"Math\": 95, \"English\": 90}\n",
        "}\n",
        "```\n",
        "\n",
        "In this example, the outer dictionary holds student names as keys, and the values are inner dictionaries that store the subjects and corresponding grades. This structure allows easy access to specific information, like Alice's Math grade:\n",
        "\n",
        "```python\n",
        "print(students[\"Alice\"][\"Math\"])  # Output: 85\n",
        "```\n"
      ],
      "metadata": {
        "id": "Jrq1CQwaotP2"
      }
    },
    {
      "cell_type": "markdown",
      "source": [
        "# 17.Describe the time complexity of accessing elements in a dictionary.\n",
        "  - The time complexity of accessing elements in a dictionary is **O(1)** on average, meaning it takes constant time to retrieve a value using a key. This is because dictionaries in Python are implemented using **hash tables**, which allow for direct access to the value based on its hash.\n",
        "\n",
        "However, in the worst case (due to hash collisions), the time complexity can degrade to **O(n)**, but this is rare with a well-distributed hash function and is typically considered an edge case.\n"
      ],
      "metadata": {
        "id": "6beznN6TpElo"
      }
    },
    {
      "cell_type": "markdown",
      "source": [
        "# 18.In what situations are lists preferred over dictionaries?\n",
        "  - Lists are preferred over dictionaries in the following situations:\n",
        "\n",
        "1. **Ordered collection of items**: When the order of elements matters, and you need to preserve it (before Python 3.7, dictionaries were unordered).\n",
        "2. **Indexed access**: When you need to access elements by their **position** (index) rather than by a unique key.\n",
        "3. **Homogeneous data**: When the data elements are similar and don’t require key-value pairing, lists are simpler and more straightforward.\n",
        "4. **Sequential iteration**: When you need to loop through all items in a collection, lists are generally more efficient for sequential iteration.\n",
        "\n",
        "In general, use lists when the focus is on the **order** or **position** of elements, and dictionaries when you need **key-value pairings** or fast lookups by key.\n"
      ],
      "metadata": {
        "id": "hLBN39IYpS74"
      }
    },
    {
      "cell_type": "markdown",
      "source": [
        "# 19.Why are dictionaries considered unordered, and how does that affect data retrieval?\n",
        "  - Dictionaries in Python were considered **unordered** until Python 3.6, as the key-value pairs were stored in a random order due to the nature of hash tables. This means that the order of insertion did not affect how items were retrieved. However, starting from Python 3.7, dictionaries maintain **insertion order**, so they are now ordered by the order of key insertion.\n",
        "\n",
        "Despite this change, the **order** of keys in a dictionary does not affect **data retrieval**. The retrieval of values is efficient and based on the **key** (with O(1) average time complexity), not the order in which the keys were added.\n",
        "\n",
        "In summary, while dictionaries in modern Python maintain insertion order, their primary strength lies in fast access via **keys**, not in their ordering.\n"
      ],
      "metadata": {
        "id": "8YATrhTfpmWQ"
      }
    },
    {
      "cell_type": "markdown",
      "source": [
        "# 20.Explain the difference between a list and a dictionary in terms of data retrieval.\n",
        "   - The main difference between a **list** and a **dictionary** in terms of data retrieval is how the data is accessed:\n",
        "\n",
        "1. **List**:\n",
        "\n",
        "   * **Indexed access**: Data is retrieved by **position** (index). You use a numeric index to access an element in a list, e.g., `my_list[2]` to get the third element.\n",
        "   * **Order matters**: Lists are **ordered**, so the index corresponds to the position of the element in the sequence.\n",
        "\n",
        "2. **Dictionary**:\n",
        "\n",
        "   * **Key-based access**: Data is retrieved by **key**, not by position. You use a unique key to access a value, e.g., `my_dict[\"name\"]` to get the value associated with the key `\"name\"`.\n",
        "   * **Fast lookup**: Dictionaries are optimized for **quick lookups** via keys (average O(1) time complexity), whereas lists require a linear search if the index is not known.\n",
        "\n",
        "In short, **lists** retrieve data by **index** (position), while **dictionaries** retrieve data by **key** (unique identifier), allowing for faster access by key.\n"
      ],
      "metadata": {
        "id": "dKNnRx6up4dI"
      }
    },
    {
      "cell_type": "markdown",
      "source": [
        "## **PRACTICAL**"
      ],
      "metadata": {
        "id": "G6iLN_JXqPsM"
      }
    },
    {
      "cell_type": "code",
      "source": [
        "# 1.Write a code to create a string with your name and print it.\n",
        "\n",
        "name=\"ahana\"\n",
        "print(name)"
      ],
      "metadata": {
        "colab": {
          "base_uri": "https://localhost:8080/"
        },
        "id": "h3Z3QhOpq74O",
        "outputId": "0dea46dc-3c7f-4134-e62d-9087c40b2f42"
      },
      "execution_count": 8,
      "outputs": [
        {
          "output_type": "stream",
          "name": "stdout",
          "text": [
            "ahana\n"
          ]
        }
      ]
    },
    {
      "cell_type": "code",
      "source": [
        "# 2.Write a code to find the length of the string \"Hello World\".\n",
        "\n",
        "string = \"Hello World\"\n",
        "print(len(string))\n"
      ],
      "metadata": {
        "colab": {
          "base_uri": "https://localhost:8080/"
        },
        "id": "4Ncryld4r649",
        "outputId": "1cddd17d-7865-48b1-d7d1-5ca57b617b98"
      },
      "execution_count": 9,
      "outputs": [
        {
          "output_type": "stream",
          "name": "stdout",
          "text": [
            "11\n"
          ]
        }
      ]
    },
    {
      "cell_type": "code",
      "source": [
        "# 3.Write a code to slice the first 3 characters from the string \"Python Programming\".\n",
        "\n",
        "string = \"Python Programming\"\n",
        "print(string[:3])\n",
        "\n"
      ],
      "metadata": {
        "colab": {
          "base_uri": "https://localhost:8080/"
        },
        "id": "RBEDpx0UsUyb",
        "outputId": "6640beb9-3723-44cf-8a86-3e3b9deec31d"
      },
      "execution_count": 10,
      "outputs": [
        {
          "output_type": "stream",
          "name": "stdout",
          "text": [
            "Pyt\n"
          ]
        }
      ]
    },
    {
      "cell_type": "code",
      "source": [
        "# 4.Write a code to convert the string \"hello\" to uppercase.\n",
        "\n",
        "string = \"hello\"\n",
        "print(string.upper())\n"
      ],
      "metadata": {
        "colab": {
          "base_uri": "https://localhost:8080/"
        },
        "id": "rq_sYVuzsqBw",
        "outputId": "18a487a7-500a-421a-a9c0-798256e37159"
      },
      "execution_count": 11,
      "outputs": [
        {
          "output_type": "stream",
          "name": "stdout",
          "text": [
            "HELLO\n"
          ]
        }
      ]
    },
    {
      "cell_type": "code",
      "source": [
        "# 5.Write a code to replace the word \"apple\" with \"orange\" in the string \"I like apple\".\n",
        "\n",
        "string = \"I like apple\"\n",
        "print(string.replace(\"apple\", \"orange\"))\n"
      ],
      "metadata": {
        "colab": {
          "base_uri": "https://localhost:8080/"
        },
        "id": "l4NvIvRms8dW",
        "outputId": "982253b7-28e5-47b9-88d9-45bd7a403f49"
      },
      "execution_count": 12,
      "outputs": [
        {
          "output_type": "stream",
          "name": "stdout",
          "text": [
            "I like orange\n"
          ]
        }
      ]
    },
    {
      "cell_type": "code",
      "source": [
        "# 6.Write a code to create a list with numbers 1 to 5 and print it.\n",
        "\n",
        "numbers = [1, 2, 3, 4, 5]\n",
        "print(numbers)\n"
      ],
      "metadata": {
        "colab": {
          "base_uri": "https://localhost:8080/"
        },
        "id": "LDDgEjt2tR78",
        "outputId": "ad4a191c-fe51-4a15-bba6-862edb6784c2"
      },
      "execution_count": 13,
      "outputs": [
        {
          "output_type": "stream",
          "name": "stdout",
          "text": [
            "[1, 2, 3, 4, 5]\n"
          ]
        }
      ]
    },
    {
      "cell_type": "code",
      "source": [
        "# 7.Write a code to append the number 10 to the list [1, 2, 3, 4].\n",
        "\n",
        "numbers = [1, 2, 3, 4]\n",
        "numbers.append(10)\n",
        "print(numbers)\n"
      ],
      "metadata": {
        "colab": {
          "base_uri": "https://localhost:8080/"
        },
        "id": "8F5GujKVthRl",
        "outputId": "92b926ce-ceda-47d6-afaf-03de77732e92"
      },
      "execution_count": 14,
      "outputs": [
        {
          "output_type": "stream",
          "name": "stdout",
          "text": [
            "[1, 2, 3, 4, 10]\n"
          ]
        }
      ]
    },
    {
      "cell_type": "code",
      "source": [
        "# 8.Write a code to remove the number 3 from the list [1, 2, 3, 4, 5].\n",
        "\n",
        "numbers = [1, 2, 3, 4, 5]\n",
        "numbers.remove(3)\n",
        "print(numbers)\n"
      ],
      "metadata": {
        "colab": {
          "base_uri": "https://localhost:8080/"
        },
        "id": "eZH3KAbStw2K",
        "outputId": "53758340-36c9-4e1f-9d9d-e39716bd2a4f"
      },
      "execution_count": 15,
      "outputs": [
        {
          "output_type": "stream",
          "name": "stdout",
          "text": [
            "[1, 2, 4, 5]\n"
          ]
        }
      ]
    },
    {
      "cell_type": "code",
      "source": [
        "# 9.Write a code to access the second element in the list ['a', 'b', 'c', 'd'].\n",
        "\n",
        "letters = ['a', 'b', 'c', 'd']\n",
        "print(letters[1])\n"
      ],
      "metadata": {
        "colab": {
          "base_uri": "https://localhost:8080/"
        },
        "id": "5sa_tbvwt-If",
        "outputId": "6aed0bc9-ee8c-44f7-8bae-0b19b6427bcd"
      },
      "execution_count": 16,
      "outputs": [
        {
          "output_type": "stream",
          "name": "stdout",
          "text": [
            "b\n"
          ]
        }
      ]
    },
    {
      "cell_type": "code",
      "source": [
        "# 10.Write a code to reverse the list [10, 20, 30, 40, 50].\n",
        "\n",
        "numbers = [10, 20, 30, 40, 50]\n",
        "numbers.reverse()\n",
        "print(numbers)\n"
      ],
      "metadata": {
        "colab": {
          "base_uri": "https://localhost:8080/"
        },
        "id": "RqU5dlOuuQUg",
        "outputId": "88ef7560-6e95-4ac9-9133-9c3a995e5113"
      },
      "execution_count": 17,
      "outputs": [
        {
          "output_type": "stream",
          "name": "stdout",
          "text": [
            "[50, 40, 30, 20, 10]\n"
          ]
        }
      ]
    },
    {
      "cell_type": "code",
      "source": [
        "# 11.Write a code to create a tuple with the elements 100, 200, 300 and print it.\n",
        "\n",
        "my_tuple = (100, 200, 300)\n",
        "print(my_tuple)\n"
      ],
      "metadata": {
        "colab": {
          "base_uri": "https://localhost:8080/"
        },
        "id": "7Q5JBrDPuehi",
        "outputId": "0dd429e3-be9b-469f-e866-8a6155f6e081"
      },
      "execution_count": 18,
      "outputs": [
        {
          "output_type": "stream",
          "name": "stdout",
          "text": [
            "(100, 200, 300)\n"
          ]
        }
      ]
    },
    {
      "cell_type": "code",
      "source": [
        "# 12.Write a code to access the second-to-last element of the tuple ('red', 'green', 'blue', 'yellow').\n",
        "\n",
        "my_tuple = ('red', 'green', 'blue', 'yellow')\n",
        "print(my_tuple[-2])\n"
      ],
      "metadata": {
        "colab": {
          "base_uri": "https://localhost:8080/"
        },
        "id": "2FimkIaDuvur",
        "outputId": "12a01f36-fac9-4a93-8e03-8a5e0b4e577a"
      },
      "execution_count": 19,
      "outputs": [
        {
          "output_type": "stream",
          "name": "stdout",
          "text": [
            "blue\n"
          ]
        }
      ]
    },
    {
      "cell_type": "code",
      "source": [
        "# 13.Write a code to find the minimum number in the tuple (10, 20, 5, 15).\n",
        "\n",
        "my_tuple = (10, 20, 5, 15)\n",
        "print(min(my_tuple))\n"
      ],
      "metadata": {
        "colab": {
          "base_uri": "https://localhost:8080/"
        },
        "id": "CMTHMXDcu9ui",
        "outputId": "7dfc6f43-8bde-46d1-9755-f2af35d083dc"
      },
      "execution_count": 20,
      "outputs": [
        {
          "output_type": "stream",
          "name": "stdout",
          "text": [
            "5\n"
          ]
        }
      ]
    },
    {
      "cell_type": "code",
      "source": [
        "# 14.Write a code to find the index of the element \"cat\" in the tuple ('dog', 'cat', 'rabbit').\n",
        "\n",
        "my_tuple = ('dog', 'cat', 'rabbit')\n",
        "print(my_tuple.index('cat'))\n"
      ],
      "metadata": {
        "colab": {
          "base_uri": "https://localhost:8080/"
        },
        "id": "uFDUivR6vM6j",
        "outputId": "65016e59-0df9-4c10-96b5-b49ae5695dea"
      },
      "execution_count": 21,
      "outputs": [
        {
          "output_type": "stream",
          "name": "stdout",
          "text": [
            "1\n"
          ]
        }
      ]
    },
    {
      "cell_type": "code",
      "source": [
        "# 15.Write a code to create a tuple containing three different fruits and check if \"kiwi\" is in it.\n",
        "\n",
        "fruits = ('apple', 'banana', 'cherry')\n",
        "print('kiwi' in fruits)\n"
      ],
      "metadata": {
        "colab": {
          "base_uri": "https://localhost:8080/"
        },
        "id": "0dFWusNjvaQ_",
        "outputId": "e8f21dad-0c82-49fc-89ef-d31ed095f50b"
      },
      "execution_count": 22,
      "outputs": [
        {
          "output_type": "stream",
          "name": "stdout",
          "text": [
            "False\n"
          ]
        }
      ]
    },
    {
      "cell_type": "code",
      "source": [
        "# 16.Write a code to create a set with the elements 'a', 'b', 'c' and print it.\n",
        "\n",
        "my_set = {'a', 'b', 'c'}\n",
        "print(my_set)\n"
      ],
      "metadata": {
        "colab": {
          "base_uri": "https://localhost:8080/"
        },
        "id": "R6ee6bsdvp5K",
        "outputId": "49e0185c-c179-4c26-fdbe-4a7f2dd25aa5"
      },
      "execution_count": 25,
      "outputs": [
        {
          "output_type": "stream",
          "name": "stdout",
          "text": [
            "{'b', 'c', 'a'}\n"
          ]
        }
      ]
    },
    {
      "cell_type": "code",
      "source": [
        "# 17.Write a code to clear all elements from the set {1, 2, 3, 4, 5}.\n",
        "\n",
        "my_set = {1, 2, 3, 4, 5}\n",
        "my_set.clear()\n",
        "print(my_set)\n"
      ],
      "metadata": {
        "colab": {
          "base_uri": "https://localhost:8080/"
        },
        "id": "OmJGmYp3wcmT",
        "outputId": "15a0c982-79bf-4756-87df-9d555151e964"
      },
      "execution_count": 26,
      "outputs": [
        {
          "output_type": "stream",
          "name": "stdout",
          "text": [
            "set()\n"
          ]
        }
      ]
    },
    {
      "cell_type": "code",
      "source": [
        "# 18.Write a code to remove the element 4 from the set {1, 2, 3, 4}.\n",
        "\n",
        "my_set = {1, 2, 3, 4}\n",
        "my_set.remove(4)\n",
        "print(my_set)\n",
        "\n"
      ],
      "metadata": {
        "colab": {
          "base_uri": "https://localhost:8080/"
        },
        "id": "ro2g84X6wt87",
        "outputId": "696a03e2-cbbc-48af-ae57-985da7a241d7"
      },
      "execution_count": 27,
      "outputs": [
        {
          "output_type": "stream",
          "name": "stdout",
          "text": [
            "{1, 2, 3}\n"
          ]
        }
      ]
    },
    {
      "cell_type": "code",
      "source": [
        "# 19.Write a code to find the union of two sets {1, 2, 3} and {3, 4, 5}.\n",
        "\n",
        "set1 = {1, 2, 3}\n",
        "set2 = {3, 4, 5}\n",
        "union_set = set1 | set2\n",
        "print(union_set)\n"
      ],
      "metadata": {
        "colab": {
          "base_uri": "https://localhost:8080/"
        },
        "id": "LhAm3j01xBSm",
        "outputId": "7fbf6c74-298c-4ebd-a877-f6c3d1c6ed1f"
      },
      "execution_count": 28,
      "outputs": [
        {
          "output_type": "stream",
          "name": "stdout",
          "text": [
            "{1, 2, 3, 4, 5}\n"
          ]
        }
      ]
    },
    {
      "cell_type": "code",
      "source": [
        "# 20. Write a code to find the intersection of two sets {1, 2, 3} and {2, 3, 4}.\n",
        "\n",
        "set1 = {1, 2, 3}\n",
        "set2 = {2, 3, 4}\n",
        "intersection_set = set1 & set2\n",
        "print(intersection_set)\n",
        "\n"
      ],
      "metadata": {
        "colab": {
          "base_uri": "https://localhost:8080/"
        },
        "id": "kwXjLTzkxOR1",
        "outputId": "47f565dd-99f1-4be9-da77-8b5d62080106"
      },
      "execution_count": 29,
      "outputs": [
        {
          "output_type": "stream",
          "name": "stdout",
          "text": [
            "{2, 3}\n"
          ]
        }
      ]
    },
    {
      "cell_type": "code",
      "source": [
        "# 21.Write a code to create a dictionary with the keys \"name\", \"age\", and \"city\", and print it.\n",
        "\n",
        "person = {\"name\": \"Alice\", \"age\": 30, \"city\": \"New York\"}\n",
        "print(person)\n"
      ],
      "metadata": {
        "colab": {
          "base_uri": "https://localhost:8080/"
        },
        "id": "BqzpNwJJyvLM",
        "outputId": "01ea391d-54ec-429f-b3c9-3b09fba0a43d"
      },
      "execution_count": 30,
      "outputs": [
        {
          "output_type": "stream",
          "name": "stdout",
          "text": [
            "{'name': 'Alice', 'age': 30, 'city': 'New York'}\n"
          ]
        }
      ]
    },
    {
      "cell_type": "code",
      "source": [
        "# 22.Write a code to add a new key-value pair \"country\": \"USA\" to the dictionary {'name': 'John', 'age': 25}\n",
        "\n",
        "\n",
        "person = {'name': 'John', 'age': 25}\n",
        "person.update({'country': 'USA'})\n",
        "print(person)"
      ],
      "metadata": {
        "colab": {
          "base_uri": "https://localhost:8080/"
        },
        "id": "w2BKRHa10n52",
        "outputId": "705bb872-8198-4a07-8b12-d71afab5438c"
      },
      "execution_count": 43,
      "outputs": [
        {
          "output_type": "stream",
          "name": "stdout",
          "text": [
            "{'name': 'John', 'age': 25, 'country': 'USA'}\n"
          ]
        }
      ]
    },
    {
      "cell_type": "code",
      "source": [
        "# 23. Write a code to access the value associated with the key \"name\" in the dictionary {'name': 'Alice', 'age': 30}.\n",
        "\n",
        "person = {'name': 'Alice', 'age': 30}\n",
        "print(person['name'])\n"
      ],
      "metadata": {
        "colab": {
          "base_uri": "https://localhost:8080/"
        },
        "id": "6OubWSCs1q55",
        "outputId": "a0483497-05dd-497a-9c7b-1d6f9719e136"
      },
      "execution_count": 44,
      "outputs": [
        {
          "output_type": "stream",
          "name": "stdout",
          "text": [
            "Alice\n"
          ]
        }
      ]
    },
    {
      "cell_type": "code",
      "source": [
        "# 24.Write a code to remove the key \"age\" from the dictionary {'name': 'Bob', 'age': 22, 'city': 'New York'}.\n",
        "\n",
        "person = {'name': 'Bob', 'age': 22, 'city': 'New York'}\n",
        "del person['age']\n",
        "print(person)\n",
        "\n"
      ],
      "metadata": {
        "colab": {
          "base_uri": "https://localhost:8080/"
        },
        "id": "EFAgiuHb12qs",
        "outputId": "07ef6866-0ffa-41f4-a875-c4173aed1469"
      },
      "execution_count": 46,
      "outputs": [
        {
          "output_type": "stream",
          "name": "stdout",
          "text": [
            "{'name': 'Bob', 'city': 'New York'}\n"
          ]
        }
      ]
    },
    {
      "cell_type": "code",
      "source": [
        "# 25.Write a code to check if the key \"city\" exists in the dictionary {'name': 'Alice', 'city': 'Paris'}.\n",
        "\n",
        "person = {'name': 'Alice', 'city': 'Paris'}\n",
        "if 'city' in person:\n",
        "    print(\"Key exists\")\n",
        "else:\n",
        "    print(\"Key does not exist\")\n"
      ],
      "metadata": {
        "colab": {
          "base_uri": "https://localhost:8080/"
        },
        "id": "gek3m8Yu2SwM",
        "outputId": "de29769f-920c-4f7e-b6f1-5d717ef1d6d1"
      },
      "execution_count": 47,
      "outputs": [
        {
          "output_type": "stream",
          "name": "stdout",
          "text": [
            "Key exists\n"
          ]
        }
      ]
    },
    {
      "cell_type": "code",
      "source": [
        "# 26.Write a code to create a list, a tuple, and a dictionary, and print them all.\n",
        "\n",
        "my_list = [1, 2, 3, 4]\n",
        "my_tuple = (5, 6, 7, 8)\n",
        "my_dict = {'name': 'John', 'age': 30}\n",
        "\n",
        "print(my_list)\n",
        "print(my_tuple)\n",
        "print(my_dict)\n"
      ],
      "metadata": {
        "colab": {
          "base_uri": "https://localhost:8080/"
        },
        "id": "jakytYFz2gnM",
        "outputId": "719d8339-89af-44d0-81e7-478ef97471de"
      },
      "execution_count": 48,
      "outputs": [
        {
          "output_type": "stream",
          "name": "stdout",
          "text": [
            "[1, 2, 3, 4]\n",
            "(5, 6, 7, 8)\n",
            "{'name': 'John', 'age': 30}\n"
          ]
        }
      ]
    },
    {
      "cell_type": "code",
      "source": [
        "# 27.Write a code to create a list of 5 random numbers between 1 and 100, sort it in ascending order, and print the result.(replaced)\n",
        "\n",
        "import random\n",
        "\n",
        "random_numbers = random.sample(range(1, 101), 5)\n",
        "random_numbers.sort()\n",
        "print(random_numbers)\n",
        "\n"
      ],
      "metadata": {
        "colab": {
          "base_uri": "https://localhost:8080/"
        },
        "id": "VzkslQj72yjC",
        "outputId": "a061abae-e285-457e-fba6-efd4401bebc7"
      },
      "execution_count": 50,
      "outputs": [
        {
          "output_type": "stream",
          "name": "stdout",
          "text": [
            "[3, 18, 58, 67, 77]\n"
          ]
        }
      ]
    },
    {
      "cell_type": "code",
      "source": [
        "# 28.Write a code to create a list with strings and print the element at the third index.\n",
        "\n",
        "my_list = [\"apple\", \"banana\", \"cherry\", \"date\", \"elderberry\"]\n",
        "print(my_list[3])\n"
      ],
      "metadata": {
        "colab": {
          "base_uri": "https://localhost:8080/"
        },
        "id": "o_3-Z8gl3bdm",
        "outputId": "b9fbd54a-7ae4-43c3-ec96-3680a62fce50"
      },
      "execution_count": 51,
      "outputs": [
        {
          "output_type": "stream",
          "name": "stdout",
          "text": [
            "date\n"
          ]
        }
      ]
    },
    {
      "cell_type": "code",
      "source": [
        "# 29.Write a code to combine two dictionaries into one and print the result.\n",
        "\n",
        "dict1 = {'name': 'Alice', 'age': 25}\n",
        "dict2 = {'city': 'New York', 'country': 'USA'}\n",
        "\n",
        "combined_dict = {**dict1, **dict2}\n",
        "print(combined_dict)\n"
      ],
      "metadata": {
        "colab": {
          "base_uri": "https://localhost:8080/"
        },
        "id": "guiFFmI33q7b",
        "outputId": "1cf87146-d97f-43b3-80d2-5273359fcb56"
      },
      "execution_count": 52,
      "outputs": [
        {
          "output_type": "stream",
          "name": "stdout",
          "text": [
            "{'name': 'Alice', 'age': 25, 'city': 'New York', 'country': 'USA'}\n"
          ]
        }
      ]
    },
    {
      "cell_type": "code",
      "source": [
        "# 30.Write a code to convert a list of strings into a set.\n",
        "\n",
        "my_list = [\"apple\", \"banana\", \"cherry\", \"apple\"]\n",
        "my_set = set(my_list)\n",
        "print(my_set)\n"
      ],
      "metadata": {
        "colab": {
          "base_uri": "https://localhost:8080/"
        },
        "id": "kfV9Mvi535F5",
        "outputId": "14a232c7-3407-40ff-a002-332aeb10ce2a"
      },
      "execution_count": 53,
      "outputs": [
        {
          "output_type": "stream",
          "name": "stdout",
          "text": [
            "{'cherry', 'apple', 'banana'}\n"
          ]
        }
      ]
    },
    {
      "cell_type": "markdown",
      "source": [
        "# **THANK YOU**"
      ],
      "metadata": {
        "id": "ewFmtyB64I99"
      }
    }
  ]
}